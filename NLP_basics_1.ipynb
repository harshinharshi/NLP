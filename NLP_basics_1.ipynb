{
  "nbformat": 4,
  "nbformat_minor": 0,
  "metadata": {
    "colab": {
      "provenance": []
    },
    "kernelspec": {
      "name": "python3",
      "display_name": "Python 3"
    },
    "language_info": {
      "name": "python"
    }
  },
  "cells": [
    {
      "cell_type": "markdown",
      "source": [
        "![NLP_basics_1.drawio.png](data:image/png;base64,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)"
      ],
      "metadata": {
        "id": "88RIz4n_KBPc"
      }
    },
    {
      "cell_type": "markdown",
      "source": [
        "# STEPS\n",
        "## Text Preprocessing Step 1:\n",
        "### Tokenization:\n",
        "Split the paragraph into sentences and then into words.\n",
        "### lowering:\n",
        "Convert all words to lowercase.\n",
        "## Text Preprocessing Step 2:\n",
        "### stopwords:\n",
        "Remove stopwords (e.g., 'is', 'was', 'there'), which are words that typically do not carry significant meaning in the context of the text.\n",
        "### Stemming and Lemmatization:\n",
        "Stemming: Reduce words to their base or root form (e.g., 'history' to 'histori'). This method is useful in contexts where the exact meaning is not critical, such as spam or review classification.\n",
        "Lemmatization: Convert words to their base or dictionary form while preserving their meaning (e.g., 'history' remains 'history'). This approach is preferred in applications where meaning is important, like chatbots or language translation.\n",
        "\n",
        "## Converting Words to Vectors:\n",
        "### Bag of Words (BoW):\n",
        "This model represents text data as a bag of words, ignoring grammar and word order but keeping multiplicity. It creates a vocabulary of all the unique words in the data set and represents each document as a vector with counts of how often each word appears.\n",
        "### TF-IDF (Term Frequency-Inverse Document Frequency):\n",
        "TF-IDF measures the originality of a word by comparing the frequency of a word in a document with its frequency across many documents. It enhances the importance of words that are unique to a specific document, which is useful for search and information retrieval.\n",
        "### Word2Vec:\n",
        "This technique involves mapping words into a high-dimensional vector space, where similar words are positioned closely in the vector space. Word2Vec models are trained using neural networks and are excellent at capturing complex word relationships."
      ],
      "metadata": {
        "id": "_8j7nYb8Mp--"
      }
    },
    {
      "cell_type": "markdown",
      "source": [
        "# Initial setup"
      ],
      "metadata": {
        "id": "oPmE2ggS26Mi"
      }
    },
    {
      "cell_type": "code",
      "execution_count": 61,
      "metadata": {
        "colab": {
          "base_uri": "https://localhost:8080/"
        },
        "id": "YrkEib8_Oc_W",
        "outputId": "0f1bf0d2-e6b4-4f62-97fa-adbda4612ad6"
      },
      "outputs": [
        {
          "output_type": "stream",
          "name": "stdout",
          "text": [
            "Requirement already satisfied: nltk in /usr/local/lib/python3.10/dist-packages (3.8.1)\n",
            "Requirement already satisfied: click in /usr/local/lib/python3.10/dist-packages (from nltk) (8.1.7)\n",
            "Requirement already satisfied: joblib in /usr/local/lib/python3.10/dist-packages (from nltk) (1.4.0)\n",
            "Requirement already satisfied: regex>=2021.8.3 in /usr/local/lib/python3.10/dist-packages (from nltk) (2023.12.25)\n",
            "Requirement already satisfied: tqdm in /usr/local/lib/python3.10/dist-packages (from nltk) (4.66.2)\n"
          ]
        }
      ],
      "source": [
        "# required library\n",
        "!pip install nltk"
      ]
    },
    {
      "cell_type": "code",
      "source": [
        "paragraph = \"\"\" 'We're simplifying our structures to allow employees more chances to work on our most innovative and important projects, focusing on our top priorities, while reducing bureaucracy and layers,\" the spokesperson said.\n",
        "\n",
        "According to the report, Google clarified that the layoffs are not across the entire company, and affected employees have the option to apply for other roles within Google that are currently hiring.\n",
        "This development follows a previous round of layoffs by Google aimed at cost-cutting, which targeted departments such as real estate and finance. In the finance sector, employees were released from roles in treasury, business services, and revenue cash operations.\n",
        "\"\"\""
      ],
      "metadata": {
        "id": "WTJEjy6BOlMQ"
      },
      "execution_count": 62,
      "outputs": []
    },
    {
      "cell_type": "code",
      "source": [
        "paragraph"
      ],
      "metadata": {
        "colab": {
          "base_uri": "https://localhost:8080/",
          "height": 90
        },
        "id": "yJwPCX50O_mP",
        "outputId": "32614edb-fd94-4350-8307-bd8bfc37c3b8"
      },
      "execution_count": 63,
      "outputs": [
        {
          "output_type": "execute_result",
          "data": {
            "text/plain": [
              "' \\'We\\'re simplifying our structures to allow employees more chances to work on our most innovative and important projects, focusing on our top priorities, while reducing bureaucracy and layers,\" the spokesperson said.\\n\\nAccording to the report, Google clarified that the layoffs are not across the entire company, and affected employees have the option to apply for other roles within Google that are currently hiring.\\nThis development follows a previous round of layoffs by Google aimed at cost-cutting, which targeted departments such as real estate and finance. In the finance sector, employees were released from roles in treasury, business services, and revenue cash operations.\\n'"
            ],
            "application/vnd.google.colaboratory.intrinsic+json": {
              "type": "string"
            }
          },
          "metadata": {},
          "execution_count": 63
        }
      ]
    },
    {
      "cell_type": "markdown",
      "source": [
        "# Text processing step - 1"
      ],
      "metadata": {
        "id": "N3f_8GRwxQd9"
      }
    },
    {
      "cell_type": "markdown",
      "source": [
        "## Tokenization"
      ],
      "metadata": {
        "id": "lQzOqsW2wFXA"
      }
    },
    {
      "cell_type": "code",
      "source": [
        "import nltk\n",
        "from nltk.corpus import stopwords"
      ],
      "metadata": {
        "id": "OnTX8IDjPQBH"
      },
      "execution_count": 64,
      "outputs": []
    },
    {
      "cell_type": "code",
      "source": [
        "# tonkenization says to split the paragraph to senctence and focus on the words in the sentance\n",
        "nltk.download('punkt')\n",
        "sentences = nltk.sent_tokenize(paragraph)"
      ],
      "metadata": {
        "colab": {
          "base_uri": "https://localhost:8080/"
        },
        "id": "uxPmMPs-PtP-",
        "outputId": "a4947ad7-1f37-42a7-a919-d16fe3ba3f38"
      },
      "execution_count": 65,
      "outputs": [
        {
          "output_type": "stream",
          "name": "stderr",
          "text": [
            "[nltk_data] Downloading package punkt to /root/nltk_data...\n",
            "[nltk_data]   Package punkt is already up-to-date!\n"
          ]
        }
      ]
    },
    {
      "cell_type": "code",
      "source": [
        "# paragraph is converted to list of sentenses\n",
        "sentences"
      ],
      "metadata": {
        "colab": {
          "base_uri": "https://localhost:8080/"
        },
        "id": "yKKMzY4Ga7VB",
        "outputId": "3fbe9b30-f02c-4b09-a899-22307d772285"
      },
      "execution_count": 66,
      "outputs": [
        {
          "output_type": "execute_result",
          "data": {
            "text/plain": [
              "[' \\'We\\'re simplifying our structures to allow employees more chances to work on our most innovative and important projects, focusing on our top priorities, while reducing bureaucracy and layers,\" the spokesperson said.',\n",
              " 'According to the report, Google clarified that the layoffs are not across the entire company, and affected employees have the option to apply for other roles within Google that are currently hiring.',\n",
              " 'This development follows a previous round of layoffs by Google aimed at cost-cutting, which targeted departments such as real estate and finance.',\n",
              " 'In the finance sector, employees were released from roles in treasury, business services, and revenue cash operations.']"
            ]
          },
          "metadata": {},
          "execution_count": 66
        }
      ]
    },
    {
      "cell_type": "markdown",
      "source": [
        "## cleaning and lowercasing"
      ],
      "metadata": {
        "id": "QeA-WmjWwRk0"
      }
    },
    {
      "cell_type": "code",
      "source": [
        "# cleaning the paragraph\n",
        "# removing the special chars, etc using regular expression\n",
        "import re\n",
        "corpus = []\n",
        "for i in sentences:\n",
        "  review = re.sub('[^a-zA-Z ]', '', i).lower() # [^a-zA-Z ] this means all characters other than a-z, A-Z and space\n",
        "  corpus.append(review)\n",
        "corpus"
      ],
      "metadata": {
        "colab": {
          "base_uri": "https://localhost:8080/"
        },
        "id": "WBY201BKdUtJ",
        "outputId": "d448fd56-18e1-4dfe-c7f4-6981ba54c721"
      },
      "execution_count": 67,
      "outputs": [
        {
          "output_type": "execute_result",
          "data": {
            "text/plain": [
              "[' were simplifying our structures to allow employees more chances to work on our most innovative and important projects focusing on our top priorities while reducing bureaucracy and layers the spokesperson said',\n",
              " 'according to the report google clarified that the layoffs are not across the entire company and affected employees have the option to apply for other roles within google that are currently hiring',\n",
              " 'this development follows a previous round of layoffs by google aimed at costcutting which targeted departments such as real estate and finance',\n",
              " 'in the finance sector employees were released from roles in treasury business services and revenue cash operations']"
            ]
          },
          "metadata": {},
          "execution_count": 67
        }
      ]
    },
    {
      "cell_type": "markdown",
      "source": [
        "# text processing 2"
      ],
      "metadata": {
        "id": "VmI2huWZxV50"
      }
    },
    {
      "cell_type": "markdown",
      "source": [
        "## Stemmer"
      ],
      "metadata": {
        "id": "QGj8ePCEv_3Q"
      }
    },
    {
      "cell_type": "code",
      "source": [
        "# stemming : changes the word to its base word\n",
        "from nltk.stem import PorterStemmer\n",
        "stemmer = PorterStemmer()\n",
        "stemmer.stem('Thinking') # base word of thinking is think"
      ],
      "metadata": {
        "colab": {
          "base_uri": "https://localhost:8080/",
          "height": 36
        },
        "id": "5x6vGJu8btsX",
        "outputId": "1b615241-63ee-43f2-d9f2-c9fb8533682c"
      },
      "execution_count": 68,
      "outputs": [
        {
          "output_type": "execute_result",
          "data": {
            "text/plain": [
              "'think'"
            ],
            "application/vnd.google.colaboratory.intrinsic+json": {
              "type": "string"
            }
          },
          "metadata": {},
          "execution_count": 68
        }
      ]
    },
    {
      "cell_type": "code",
      "source": [
        "stemmer.stem('history') # stemmer changes the 'history' to 'histori' we lose the meaning of the word"
      ],
      "metadata": {
        "colab": {
          "base_uri": "https://localhost:8080/",
          "height": 36
        },
        "id": "UgtX5jvzcZdV",
        "outputId": "31d79584-fb1b-4de4-b601-3593b3cb6efa"
      },
      "execution_count": 69,
      "outputs": [
        {
          "output_type": "execute_result",
          "data": {
            "text/plain": [
              "'histori'"
            ],
            "application/vnd.google.colaboratory.intrinsic+json": {
              "type": "string"
            }
          },
          "metadata": {},
          "execution_count": 69
        }
      ]
    },
    {
      "cell_type": "markdown",
      "source": [
        "## Lemmatizer"
      ],
      "metadata": {
        "id": "HC7qL5zgv7MN"
      }
    },
    {
      "cell_type": "code",
      "source": [
        "nltk.download('wordnet')"
      ],
      "metadata": {
        "colab": {
          "base_uri": "https://localhost:8080/"
        },
        "id": "YOiOvVjqc_JZ",
        "outputId": "3297e957-4c0e-457b-c187-9212da03a810"
      },
      "execution_count": 70,
      "outputs": [
        {
          "output_type": "stream",
          "name": "stderr",
          "text": [
            "[nltk_data] Downloading package wordnet to /root/nltk_data...\n",
            "[nltk_data]   Package wordnet is already up-to-date!\n"
          ]
        },
        {
          "output_type": "execute_result",
          "data": {
            "text/plain": [
              "True"
            ]
          },
          "metadata": {},
          "execution_count": 70
        }
      ]
    },
    {
      "cell_type": "code",
      "source": [
        "# to overcome issue of the stemming we use lemmatizer\n",
        "# lemmetizer convert the word to meaningful base word\n",
        "from nltk.stem import WordNetLemmatizer\n",
        "lemmetizer = WordNetLemmatizer()\n",
        "lemmetizer.lemmatize('history') # history converted to base word history which has meaning"
      ],
      "metadata": {
        "colab": {
          "base_uri": "https://localhost:8080/",
          "height": 36
        },
        "id": "fulnbyYLcBbI",
        "outputId": "54920ec4-b767-4e32-af80-17ac0f498708"
      },
      "execution_count": 71,
      "outputs": [
        {
          "output_type": "execute_result",
          "data": {
            "text/plain": [
              "'history'"
            ],
            "application/vnd.google.colaboratory.intrinsic+json": {
              "type": "string"
            }
          },
          "metadata": {},
          "execution_count": 71
        }
      ]
    },
    {
      "cell_type": "code",
      "source": [
        "lemmetizer.lemmatize('goes')"
      ],
      "metadata": {
        "colab": {
          "base_uri": "https://localhost:8080/",
          "height": 36
        },
        "id": "HbpnXU79dSWW",
        "outputId": "b48ded06-b5bc-4f2b-b9d3-c151135253c5"
      },
      "execution_count": 72,
      "outputs": [
        {
          "output_type": "execute_result",
          "data": {
            "text/plain": [
              "'go'"
            ],
            "application/vnd.google.colaboratory.intrinsic+json": {
              "type": "string"
            }
          },
          "metadata": {},
          "execution_count": 72
        }
      ]
    },
    {
      "cell_type": "markdown",
      "source": [
        "## stopwords"
      ],
      "metadata": {
        "id": "Tap4v-REwdoz"
      }
    },
    {
      "cell_type": "code",
      "source": [
        "nltk.download('stopwords')\n",
        "stopwords.words('english') # stopwords used in english language"
      ],
      "metadata": {
        "id": "SZjk1Wy9flee",
        "colab": {
          "base_uri": "https://localhost:8080/"
        },
        "outputId": "c788d78a-3a02-4177-ea67-92d1e6897a24"
      },
      "execution_count": 73,
      "outputs": [
        {
          "output_type": "stream",
          "name": "stderr",
          "text": [
            "[nltk_data] Downloading package stopwords to /root/nltk_data...\n",
            "[nltk_data]   Package stopwords is already up-to-date!\n"
          ]
        },
        {
          "output_type": "execute_result",
          "data": {
            "text/plain": [
              "['i',\n",
              " 'me',\n",
              " 'my',\n",
              " 'myself',\n",
              " 'we',\n",
              " 'our',\n",
              " 'ours',\n",
              " 'ourselves',\n",
              " 'you',\n",
              " \"you're\",\n",
              " \"you've\",\n",
              " \"you'll\",\n",
              " \"you'd\",\n",
              " 'your',\n",
              " 'yours',\n",
              " 'yourself',\n",
              " 'yourselves',\n",
              " 'he',\n",
              " 'him',\n",
              " 'his',\n",
              " 'himself',\n",
              " 'she',\n",
              " \"she's\",\n",
              " 'her',\n",
              " 'hers',\n",
              " 'herself',\n",
              " 'it',\n",
              " \"it's\",\n",
              " 'its',\n",
              " 'itself',\n",
              " 'they',\n",
              " 'them',\n",
              " 'their',\n",
              " 'theirs',\n",
              " 'themselves',\n",
              " 'what',\n",
              " 'which',\n",
              " 'who',\n",
              " 'whom',\n",
              " 'this',\n",
              " 'that',\n",
              " \"that'll\",\n",
              " 'these',\n",
              " 'those',\n",
              " 'am',\n",
              " 'is',\n",
              " 'are',\n",
              " 'was',\n",
              " 'were',\n",
              " 'be',\n",
              " 'been',\n",
              " 'being',\n",
              " 'have',\n",
              " 'has',\n",
              " 'had',\n",
              " 'having',\n",
              " 'do',\n",
              " 'does',\n",
              " 'did',\n",
              " 'doing',\n",
              " 'a',\n",
              " 'an',\n",
              " 'the',\n",
              " 'and',\n",
              " 'but',\n",
              " 'if',\n",
              " 'or',\n",
              " 'because',\n",
              " 'as',\n",
              " 'until',\n",
              " 'while',\n",
              " 'of',\n",
              " 'at',\n",
              " 'by',\n",
              " 'for',\n",
              " 'with',\n",
              " 'about',\n",
              " 'against',\n",
              " 'between',\n",
              " 'into',\n",
              " 'through',\n",
              " 'during',\n",
              " 'before',\n",
              " 'after',\n",
              " 'above',\n",
              " 'below',\n",
              " 'to',\n",
              " 'from',\n",
              " 'up',\n",
              " 'down',\n",
              " 'in',\n",
              " 'out',\n",
              " 'on',\n",
              " 'off',\n",
              " 'over',\n",
              " 'under',\n",
              " 'again',\n",
              " 'further',\n",
              " 'then',\n",
              " 'once',\n",
              " 'here',\n",
              " 'there',\n",
              " 'when',\n",
              " 'where',\n",
              " 'why',\n",
              " 'how',\n",
              " 'all',\n",
              " 'any',\n",
              " 'both',\n",
              " 'each',\n",
              " 'few',\n",
              " 'more',\n",
              " 'most',\n",
              " 'other',\n",
              " 'some',\n",
              " 'such',\n",
              " 'no',\n",
              " 'nor',\n",
              " 'not',\n",
              " 'only',\n",
              " 'own',\n",
              " 'same',\n",
              " 'so',\n",
              " 'than',\n",
              " 'too',\n",
              " 'very',\n",
              " 's',\n",
              " 't',\n",
              " 'can',\n",
              " 'will',\n",
              " 'just',\n",
              " 'don',\n",
              " \"don't\",\n",
              " 'should',\n",
              " \"should've\",\n",
              " 'now',\n",
              " 'd',\n",
              " 'll',\n",
              " 'm',\n",
              " 'o',\n",
              " 're',\n",
              " 've',\n",
              " 'y',\n",
              " 'ain',\n",
              " 'aren',\n",
              " \"aren't\",\n",
              " 'couldn',\n",
              " \"couldn't\",\n",
              " 'didn',\n",
              " \"didn't\",\n",
              " 'doesn',\n",
              " \"doesn't\",\n",
              " 'hadn',\n",
              " \"hadn't\",\n",
              " 'hasn',\n",
              " \"hasn't\",\n",
              " 'haven',\n",
              " \"haven't\",\n",
              " 'isn',\n",
              " \"isn't\",\n",
              " 'ma',\n",
              " 'mightn',\n",
              " \"mightn't\",\n",
              " 'mustn',\n",
              " \"mustn't\",\n",
              " 'needn',\n",
              " \"needn't\",\n",
              " 'shan',\n",
              " \"shan't\",\n",
              " 'shouldn',\n",
              " \"shouldn't\",\n",
              " 'wasn',\n",
              " \"wasn't\",\n",
              " 'weren',\n",
              " \"weren't\",\n",
              " 'won',\n",
              " \"won't\",\n",
              " 'wouldn',\n",
              " \"wouldn't\"]"
            ]
          },
          "metadata": {},
          "execution_count": 73
        }
      ]
    },
    {
      "cell_type": "markdown",
      "source": [
        "## first two steps in a single cell"
      ],
      "metadata": {
        "id": "aN96wnqtwsO9"
      }
    },
    {
      "cell_type": "code",
      "source": [
        "# appling stemming and removing stopwords\n",
        "for i in corpus:\n",
        "  words = nltk.word_tokenize(i) # sentense is splited into word\n",
        "  for word in words:\n",
        "    if not word in set(stopwords.words('english')):\n",
        "      print(stemmer.stem(word))"
      ],
      "metadata": {
        "id": "26Qg0ZnQfhU_",
        "colab": {
          "base_uri": "https://localhost:8080/"
        },
        "outputId": "0374bbac-df6a-44b9-d7cb-b656b6122a42"
      },
      "execution_count": 74,
      "outputs": [
        {
          "output_type": "stream",
          "name": "stdout",
          "text": [
            "simplifi\n",
            "structur\n",
            "allow\n",
            "employe\n",
            "chanc\n",
            "work\n",
            "innov\n",
            "import\n",
            "project\n",
            "focus\n",
            "top\n",
            "prioriti\n",
            "reduc\n",
            "bureaucraci\n",
            "layer\n",
            "spokesperson\n",
            "said\n",
            "accord\n",
            "report\n",
            "googl\n",
            "clarifi\n",
            "layoff\n",
            "across\n",
            "entir\n",
            "compani\n",
            "affect\n",
            "employe\n",
            "option\n",
            "appli\n",
            "role\n",
            "within\n",
            "googl\n",
            "current\n",
            "hire\n",
            "develop\n",
            "follow\n",
            "previou\n",
            "round\n",
            "layoff\n",
            "googl\n",
            "aim\n",
            "costcut\n",
            "target\n",
            "depart\n",
            "real\n",
            "estat\n",
            "financ\n",
            "financ\n",
            "sector\n",
            "employe\n",
            "releas\n",
            "role\n",
            "treasuri\n",
            "busi\n",
            "servic\n",
            "revenu\n",
            "cash\n",
            "oper\n"
          ]
        }
      ]
    },
    {
      "cell_type": "code",
      "source": [
        "# appling lemmetize and removing stopwords\n",
        "for i in corpus:\n",
        "  words = nltk.word_tokenize(i) # sentense is splited into word\n",
        "  print(words)\n",
        "  for word in words:\n",
        "    if not word in set(stopwords.words('english')):\n",
        "      print(lemmetizer.lemmatize(word))\n",
        "  break"
      ],
      "metadata": {
        "id": "aJr4iX13Dhui",
        "colab": {
          "base_uri": "https://localhost:8080/"
        },
        "outputId": "7448b21e-c4f3-40ae-9f94-a087b01556b0"
      },
      "execution_count": 75,
      "outputs": [
        {
          "output_type": "stream",
          "name": "stdout",
          "text": [
            "['were', 'simplifying', 'our', 'structures', 'to', 'allow', 'employees', 'more', 'chances', 'to', 'work', 'on', 'our', 'most', 'innovative', 'and', 'important', 'projects', 'focusing', 'on', 'our', 'top', 'priorities', 'while', 'reducing', 'bureaucracy', 'and', 'layers', 'the', 'spokesperson', 'said']\n",
            "simplifying\n",
            "structure\n",
            "allow\n",
            "employee\n",
            "chance\n",
            "work\n",
            "innovative\n",
            "important\n",
            "project\n",
            "focusing\n",
            "top\n",
            "priority\n",
            "reducing\n",
            "bureaucracy\n",
            "layer\n",
            "spokesperson\n",
            "said\n"
          ]
        }
      ]
    },
    {
      "cell_type": "code",
      "source": [
        "## Apply Stopswords. Lemmatize\n",
        "import re\n",
        "corpus = []\n",
        "for i in range(len(sentences)):\n",
        "    review = re.sub('[^a-zA-Z]', ' ', sentences[i])\n",
        "    review = review.lower()\n",
        "    review = review.split()\n",
        "    review = [lemmetizer.lemmatize(word) for word in review if not word in set(stopwords.words('english'))]\n",
        "    review = ' '.join(review)\n",
        "    corpus.append(review)"
      ],
      "metadata": {
        "id": "I-pgyA8iDRry"
      },
      "execution_count": 76,
      "outputs": []
    },
    {
      "cell_type": "markdown",
      "source": [
        "# converting word to vectors"
      ],
      "metadata": {
        "id": "IJM2SCxoxDtr"
      }
    },
    {
      "cell_type": "markdown",
      "source": [
        "## bag of words"
      ],
      "metadata": {
        "id": "LW2Cl6u5wplq"
      }
    },
    {
      "cell_type": "code",
      "source": [
        "# bag of words\n",
        "from sklearn.feature_extraction.text import CountVectorizer\n",
        "cv = CountVectorizer()\n",
        "X = cv.fit_transform(words)"
      ],
      "metadata": {
        "id": "F0I5r4ENP-eX"
      },
      "execution_count": 77,
      "outputs": []
    },
    {
      "cell_type": "code",
      "source": [
        "cv.vocabulary_   # shows index or feature number (eg f1, f2 etc)"
      ],
      "metadata": {
        "id": "hscvE-MNQkfJ",
        "colab": {
          "base_uri": "https://localhost:8080/"
        },
        "outputId": "a808a24c-8227-468e-8f78-edf0217de028"
      },
      "execution_count": 78,
      "outputs": [
        {
          "output_type": "execute_result",
          "data": {
            "text/plain": [
              "{'were': 23,\n",
              " 'simplifying': 17,\n",
              " 'our': 12,\n",
              " 'structures': 19,\n",
              " 'to': 21,\n",
              " 'allow': 0,\n",
              " 'employees': 4,\n",
              " 'more': 9,\n",
              " 'chances': 3,\n",
              " 'work': 25,\n",
              " 'on': 11,\n",
              " 'most': 10,\n",
              " 'innovative': 7,\n",
              " 'and': 1,\n",
              " 'important': 6,\n",
              " 'projects': 14,\n",
              " 'focusing': 5,\n",
              " 'top': 22,\n",
              " 'priorities': 13,\n",
              " 'while': 24,\n",
              " 'reducing': 15,\n",
              " 'bureaucracy': 2,\n",
              " 'layers': 8,\n",
              " 'the': 20,\n",
              " 'spokesperson': 18,\n",
              " 'said': 16}"
            ]
          },
          "metadata": {},
          "execution_count": 78
        }
      ]
    },
    {
      "cell_type": "code",
      "source": [
        "# bag of words for the first element\n",
        "corpus[0]"
      ],
      "metadata": {
        "colab": {
          "base_uri": "https://localhost:8080/",
          "height": 36
        },
        "id": "K6LqnzhDQ1oK",
        "outputId": "c95f15d7-cfad-45c7-bb2b-1f8f016028b6"
      },
      "execution_count": 79,
      "outputs": [
        {
          "output_type": "execute_result",
          "data": {
            "text/plain": [
              "'simplifying structure allow employee chance work innovative important project focusing top priority reducing bureaucracy layer spokesperson said'"
            ],
            "application/vnd.google.colaboratory.intrinsic+json": {
              "type": "string"
            }
          },
          "metadata": {},
          "execution_count": 79
        }
      ]
    },
    {
      "cell_type": "code",
      "source": [
        "X[0].toarray()"
      ],
      "metadata": {
        "colab": {
          "base_uri": "https://localhost:8080/"
        },
        "id": "3ABpejQ3Q8OJ",
        "outputId": "df06236b-3c45-4137-d12b-95a252b005e7"
      },
      "execution_count": 80,
      "outputs": [
        {
          "output_type": "execute_result",
          "data": {
            "text/plain": [
              "array([[0, 0, 0, 0, 0, 0, 0, 0, 0, 0, 0, 0, 0, 0, 0, 0, 0, 0, 0, 0, 0, 0,\n",
              "        0, 1, 0, 0]])"
            ]
          },
          "metadata": {},
          "execution_count": 80
        }
      ]
    },
    {
      "cell_type": "code",
      "source": [
        "# making binary gram\n",
        "cv = CountVectorizer(binary=True)\n",
        "X = cv.fit_transform(words)\n",
        "corpus[0]\n",
        "X[0].toarray()"
      ],
      "metadata": {
        "colab": {
          "base_uri": "https://localhost:8080/"
        },
        "id": "tCcNG2PriU2u",
        "outputId": "ae935ebc-02a7-483c-f730-a657cf9fef47"
      },
      "execution_count": 81,
      "outputs": [
        {
          "output_type": "execute_result",
          "data": {
            "text/plain": [
              "array([[0, 0, 0, 0, 0, 0, 0, 0, 0, 0, 0, 0, 0, 0, 0, 0, 0, 0, 0, 0, 0, 0,\n",
              "        0, 1, 0, 0]])"
            ]
          },
          "metadata": {},
          "execution_count": 81
        }
      ]
    },
    {
      "cell_type": "markdown",
      "source": [
        "## TI-IDF"
      ],
      "metadata": {
        "id": "5tMZR-vNw8IB"
      }
    },
    {
      "cell_type": "code",
      "source": [
        "### TFIDF\n",
        "### ngram_range = (x,y) --> then all the Ngrms form [x,y] will be selected\n",
        "### max_features=x --> only select top x features\n",
        "from sklearn.feature_extraction.text import TfidfVectorizer\n",
        "cv=TfidfVectorizer(ngram_range=(1,1),max_features=10)\n",
        "X=cv.fit_transform(corpus)"
      ],
      "metadata": {
        "id": "WKc-WFYlNsX0"
      },
      "execution_count": 82,
      "outputs": []
    },
    {
      "cell_type": "code",
      "source": [
        "corpus[0]"
      ],
      "metadata": {
        "colab": {
          "base_uri": "https://localhost:8080/",
          "height": 36
        },
        "id": "cdRpGguuC19h",
        "outputId": "728f1d9f-7551-485c-cfd9-34cafd26e4c2"
      },
      "execution_count": 83,
      "outputs": [
        {
          "output_type": "execute_result",
          "data": {
            "text/plain": [
              "'simplifying structure allow employee chance work innovative important project focusing top priority reducing bureaucracy layer spokesperson said'"
            ],
            "application/vnd.google.colaboratory.intrinsic+json": {
              "type": "string"
            }
          },
          "metadata": {},
          "execution_count": 83
        }
      ]
    },
    {
      "cell_type": "code",
      "source": [
        "X[0].toarray()"
      ],
      "metadata": {
        "colab": {
          "base_uri": "https://localhost:8080/"
        },
        "id": "hRX4iV6wC4ER",
        "outputId": "de8e1588-25db-4295-a686-e537d428ffab"
      },
      "execution_count": 84,
      "outputs": [
        {
          "output_type": "execute_result",
          "data": {
            "text/plain": [
              "array([[0.        , 0.53802897, 0.        , 0.        , 0.        ,\n",
              "        0.        , 0.        , 0.        , 0.84292635, 0.        ]])"
            ]
          },
          "metadata": {},
          "execution_count": 84
        }
      ]
    },
    {
      "cell_type": "markdown",
      "source": [
        "# assignment\n",
        "Go to uci data set and search for text classification try to apply all you have learned"
      ],
      "metadata": {
        "id": "fby6k0XNEuES"
      }
    },
    {
      "cell_type": "markdown",
      "source": [
        "## Getting the dataset"
      ],
      "metadata": {
        "id": "eCzu-hzk5OnZ"
      }
    },
    {
      "cell_type": "code",
      "source": [
        "!pip install ucimlrepo"
      ],
      "metadata": {
        "id": "QKlEe3bHEtYS",
        "colab": {
          "base_uri": "https://localhost:8080/"
        },
        "outputId": "d6766d5f-e82c-4fb4-bae7-7a51f2ad8141"
      },
      "execution_count": 85,
      "outputs": [
        {
          "output_type": "stream",
          "name": "stdout",
          "text": [
            "Requirement already satisfied: ucimlrepo in /usr/local/lib/python3.10/dist-packages (0.0.6)\n"
          ]
        }
      ]
    },
    {
      "cell_type": "code",
      "source": [
        "from ucimlrepo import fetch_ucirepo\n",
        "\n",
        "# fetch dataset\n",
        "statlog_german_credit_data = fetch_ucirepo(id=144)\n",
        "\n",
        "# data (as pandas dataframes)\n",
        "X = statlog_german_credit_data.data.features\n",
        "y = statlog_german_credit_data.data.targets\n",
        "\n",
        "# metadata\n",
        "print(statlog_german_credit_data.metadata)\n",
        "\n",
        "# variable information\n",
        "print(statlog_german_credit_data.variables)\n",
        "\n",
        "type(statlog_german_credit_data)"
      ],
      "metadata": {
        "colab": {
          "base_uri": "https://localhost:8080/"
        },
        "id": "asUFGPE-5SzV",
        "outputId": "bc863f3a-3c29-4048-d647-cdbfd0e86611"
      },
      "execution_count": 86,
      "outputs": [
        {
          "output_type": "stream",
          "name": "stdout",
          "text": [
            "{'uci_id': 144, 'name': 'Statlog (German Credit Data)', 'repository_url': 'https://archive.ics.uci.edu/dataset/144/statlog+german+credit+data', 'data_url': 'https://archive.ics.uci.edu/static/public/144/data.csv', 'abstract': 'This dataset classifies people described by a set of attributes as good or bad credit risks. Comes in two formats (one all numeric). Also comes with a cost matrix', 'area': 'Social Science', 'tasks': ['Classification'], 'characteristics': ['Multivariate'], 'num_instances': 1000, 'num_features': 20, 'feature_types': ['Categorical', 'Integer'], 'demographics': ['Other', 'Marital Status', 'Age', 'Occupation'], 'target_col': ['class'], 'index_col': None, 'has_missing_values': 'no', 'missing_values_symbol': None, 'year_of_dataset_creation': 1994, 'last_updated': 'Thu Aug 10 2023', 'dataset_doi': '10.24432/C5NC77', 'creators': ['Hans Hofmann'], 'intro_paper': None, 'additional_info': {'summary': 'Two datasets are provided.  the original dataset, in the form provided by Prof. Hofmann, contains categorical/symbolic attributes and is in the file \"german.data\".   \\r\\n \\r\\nFor algorithms that need numerical attributes, Strathclyde University produced the file \"german.data-numeric\".  This file has been edited and several indicator variables added to make it suitable for algorithms which cannot cope with categorical variables.   Several attributes that are ordered categorical (such as attribute 17) have been coded as integer.    This was the form used by StatLog.\\r\\n\\r\\nThis dataset requires use of a cost matrix (see below)\\r\\n\\r\\n ..... 1        2\\r\\n----------------------------\\r\\n  1   0        1\\r\\n-----------------------\\r\\n  2   5        0\\r\\n\\r\\n(1 = Good,  2 = Bad)\\r\\n\\r\\nThe rows represent the actual classification and the columns the predicted classification.\\r\\n\\r\\nIt is worse to class a customer as good when they are bad (5), than it is to class a customer as bad when they are good (1).\\r\\n', 'purpose': None, 'funded_by': None, 'instances_represent': None, 'recommended_data_splits': None, 'sensitive_data': None, 'preprocessing_description': None, 'variable_info': 'Attribute 1:  (qualitative)      \\r\\n Status of existing checking account\\r\\n             A11 :      ... <    0 DM\\r\\n\\t       A12 : 0 <= ... <  200 DM\\r\\n\\t       A13 :      ... >= 200 DM / salary assignments for at least 1 year\\r\\n               A14 : no checking account\\r\\n\\r\\nAttribute 2:  (numerical)\\r\\n\\t      Duration in month\\r\\n\\r\\nAttribute 3:  (qualitative)\\r\\n\\t      Credit history\\r\\n\\t      A30 : no credits taken/ all credits paid back duly\\r\\n              A31 : all credits at this bank paid back duly\\r\\n\\t      A32 : existing credits paid back duly till now\\r\\n              A33 : delay in paying off in the past\\r\\n\\t      A34 : critical account/  other credits existing (not at this bank)\\r\\n\\r\\nAttribute 4:  (qualitative)\\r\\n\\t      Purpose\\r\\n\\t      A40 : car (new)\\r\\n\\t      A41 : car (used)\\r\\n\\t      A42 : furniture/equipment\\r\\n\\t      A43 : radio/television\\r\\n\\t      A44 : domestic appliances\\r\\n\\t      A45 : repairs\\r\\n\\t      A46 : education\\r\\n\\t      A47 : (vacation - does not exist?)\\r\\n\\t      A48 : retraining\\r\\n\\t      A49 : business\\r\\n\\t      A410 : others\\r\\n\\r\\nAttribute 5:  (numerical)\\r\\n\\t      Credit amount\\r\\n\\r\\nAttibute 6:  (qualitative)\\r\\n\\t      Savings account/bonds\\r\\n\\t      A61 :          ... <  100 DM\\r\\n\\t      A62 :   100 <= ... <  500 DM\\r\\n\\t      A63 :   500 <= ... < 1000 DM\\r\\n\\t      A64 :          .. >= 1000 DM\\r\\n              A65 :   unknown/ no savings account\\r\\n\\r\\nAttribute 7:  (qualitative)\\r\\n\\t      Present employment since\\r\\n\\t      A71 : unemployed\\r\\n\\t      A72 :       ... < 1 year\\r\\n\\t      A73 : 1  <= ... < 4 years  \\r\\n\\t      A74 : 4  <= ... < 7 years\\r\\n\\t      A75 :       .. >= 7 years\\r\\n\\r\\nAttribute 8:  (numerical)\\r\\n\\t      Installment rate in percentage of disposable income\\r\\n\\r\\nAttribute 9:  (qualitative)\\r\\n\\t      Personal status and sex\\r\\n\\t      A91 : male   : divorced/separated\\r\\n\\t      A92 : female : divorced/separated/married\\r\\n              A93 : male   : single\\r\\n\\t      A94 : male   : married/widowed\\r\\n\\t      A95 : female : single\\r\\n\\r\\nAttribute 10: (qualitative)\\r\\n\\t      Other debtors / guarantors\\r\\n\\t      A101 : none\\r\\n\\t      A102 : co-applicant\\r\\n\\t      A103 : guarantor\\r\\n\\r\\nAttribute 11: (numerical)\\r\\n\\t      Present residence since\\r\\n\\r\\nAttribute 12: (qualitative)\\r\\n\\t      Property\\r\\n\\t      A121 : real estate\\r\\n\\t      A122 : if not A121 : building society savings agreement/ life insurance\\r\\n              A123 : if not A121/A122 : car or other, not in attribute 6\\r\\n\\t      A124 : unknown / no property\\r\\n\\r\\nAttribute 13: (numerical)\\r\\n\\t      Age in years\\r\\n\\r\\nAttribute 14: (qualitative)\\r\\n\\t      Other installment plans \\r\\n\\t      A141 : bank\\r\\n\\t      A142 : stores\\r\\n\\t      A143 : none\\r\\n\\r\\nAttribute 15: (qualitative)\\r\\n\\t      Housing\\r\\n\\t      A151 : rent\\r\\n\\t      A152 : own\\r\\n\\t      A153 : for free\\r\\n\\r\\nAttribute 16: (numerical)\\r\\n              Number of existing credits at this bank\\r\\n\\r\\nAttribute 17: (qualitative)\\r\\n\\t      Job\\r\\n\\t      A171 : unemployed/ unskilled  - non-resident\\r\\n\\t      A172 : unskilled - resident\\r\\n\\t      A173 : skilled employee / official\\r\\n\\t      A174 : management/ self-employed/\\r\\n\\t\\t     highly qualified employee/ officer\\r\\n\\r\\nAttribute 18: (numerical)\\r\\n\\t      Number of people being liable to provide maintenance for\\r\\n\\r\\nAttribute 19: (qualitative)\\r\\n\\t      Telephone\\r\\n\\t      A191 : none\\r\\n\\t      A192 : yes, registered under the customers name\\r\\n\\r\\nAttribute 20: (qualitative)\\r\\n\\t      foreign worker\\r\\n\\t      A201 : yes\\r\\n\\t      A202 : no\\r\\n', 'citation': None}}\n",
            "           name     role         type     demographic  \\\n",
            "0    Attribute1  Feature  Categorical            None   \n",
            "1    Attribute2  Feature      Integer            None   \n",
            "2    Attribute3  Feature  Categorical            None   \n",
            "3    Attribute4  Feature  Categorical            None   \n",
            "4    Attribute5  Feature      Integer            None   \n",
            "5    Attribute6  Feature  Categorical            None   \n",
            "6    Attribute7  Feature  Categorical           Other   \n",
            "7    Attribute8  Feature      Integer            None   \n",
            "8    Attribute9  Feature  Categorical  Marital Status   \n",
            "9   Attribute10  Feature  Categorical            None   \n",
            "10  Attribute11  Feature      Integer            None   \n",
            "11  Attribute12  Feature  Categorical            None   \n",
            "12  Attribute13  Feature      Integer             Age   \n",
            "13  Attribute14  Feature  Categorical            None   \n",
            "14  Attribute15  Feature  Categorical           Other   \n",
            "15  Attribute16  Feature      Integer            None   \n",
            "16  Attribute17  Feature  Categorical      Occupation   \n",
            "17  Attribute18  Feature      Integer            None   \n",
            "18  Attribute19  Feature       Binary            None   \n",
            "19  Attribute20  Feature       Binary           Other   \n",
            "20        class   Target       Binary            None   \n",
            "\n",
            "                                          description   units missing_values  \n",
            "0                 Status of existing checking account    None             no  \n",
            "1                                            Duration  months             no  \n",
            "2                                      Credit history    None             no  \n",
            "3                                             Purpose    None             no  \n",
            "4                                       Credit amount    None             no  \n",
            "5                               Savings account/bonds    None             no  \n",
            "6                            Present employment since    None             no  \n",
            "7   Installment rate in percentage of disposable i...    None             no  \n",
            "8                             Personal status and sex    None             no  \n",
            "9                          Other debtors / guarantors    None             no  \n",
            "10                            Present residence since    None             no  \n",
            "11                                           Property    None             no  \n",
            "12                                                Age   years             no  \n",
            "13                            Other installment plans    None             no  \n",
            "14                                            Housing    None             no  \n",
            "15            Number of existing credits at this bank    None             no  \n",
            "16                                                Job    None             no  \n",
            "17  Number of people being liable to provide maint...    None             no  \n",
            "18                                          Telephone    None             no  \n",
            "19                                     foreign worker    None             no  \n",
            "20                                  1 = Good, 2 = Bad    None             no  \n"
          ]
        },
        {
          "output_type": "execute_result",
          "data": {
            "text/plain": [
              "ucimlrepo.dotdict.dotdict"
            ]
          },
          "metadata": {},
          "execution_count": 86
        }
      ]
    },
    {
      "cell_type": "markdown",
      "source": [
        "## converting to dataframe"
      ],
      "metadata": {
        "id": "vgTJlyyY5z16"
      }
    }
  ]
}